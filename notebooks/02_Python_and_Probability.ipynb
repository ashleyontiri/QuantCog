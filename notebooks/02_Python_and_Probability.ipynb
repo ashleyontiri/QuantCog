{
 "cells": [
  {
   "cell_type": "markdown",
   "metadata": {
    "slideshow": {
     "slide_type": "slide"
    }
   },
   "source": [
    "# Git, Python, and Probability Primer\n",
    "## Introduction to Quantified Cognition\n",
    "By: Per B. Sederberg, PhD\n",
    "\n",
    "<a href=\"https://colab.research.google.com/github/compmem/QuantCog/blob/2021_Spring/notebooks/02_Python_and_Probability.ipynb\"><img align=\"left\" src=\"https://colab.research.google.com/assets/colab-badge.svg\" alt=\"Open in Colab\" title=\"Open and Execute in Google Colaboratory\"></a>"
   ]
  },
  {
   "cell_type": "markdown",
   "metadata": {
    "slideshow": {
     "slide_type": "slide"
    }
   },
   "source": [
    "## Reminder of first assignment\n",
    "\n",
    "It's not too late to complete your first assignment!\n",
    "\n",
    "You can find the assignments here:\n",
    "\n",
    "https://github.com/compmem/QuantCog\n",
    "\n",
    "Look for the Jupyter notebook, download and rename it, then follow the instructions.\n",
    "\n",
    "### Also...\n",
    "\n",
    "***Don't forget to accept the Slack invitation!***"
   ]
  },
  {
   "cell_type": "markdown",
   "metadata": {
    "slideshow": {
     "slide_type": "slide"
    }
   },
   "source": [
    "# Lesson Objectives\n",
    "\n",
    "Upon completion of this lesson, students should have learned:\n",
    "\n",
    "- Git introduction\n",
    "  1. What version control is and why to use it\n",
    "  2. About the Git version control system and how to use it with GitHub\n",
    "  3. How to clone Git repositories\n",
    "  4. How to commit and upload changes to a Git repository\n",
    "- Python/Jupyter introduction\n",
    "  1. Start and use a Jupyter notebook\n",
    "  2. High-level description of Python\n",
    "- Probability introduction\n",
    "  1. Basic rules of probability\n",
    "  2. Visualization of continuous probability functions"
   ]
  },
  {
   "cell_type": "markdown",
   "metadata": {
    "slideshow": {
     "slide_type": "slide"
    }
   },
   "source": [
    "# The what and the why of version control\n",
    "\n",
    "Have you been here before?\n",
    "\n",
    "![](https://i0.wp.com/devs.wiresmithtech.com/wp-content/uploads/2015/01/geek-and-poke-version-control.jpg)\n",
    "\n",
    "\n"
   ]
  },
  {
   "cell_type": "markdown",
   "metadata": {
    "slideshow": {
     "slide_type": "slide"
    }
   },
   "source": [
    "## Why version control?\n",
    "\n",
    "- Save different versions of software or documents in a safe and organized way.\n",
    "- Flexible ways to revert to previous versions to correct errors (i.e., fix bugs).\n",
    "- Make it *much* easier to collaborate as a team on the same documents.\n",
    "- Can act like a backup (but should not *replace* actual backups)."
   ]
  },
  {
   "cell_type": "markdown",
   "metadata": {
    "slideshow": {
     "slide_type": "slide"
    }
   },
   "source": [
    "## What is Git?\n",
    "\n",
    ">Git is a free and open source distributed version control system designed to handle everything from small to very large projects with speed and efficiency.\n",
    "---Linus Trovalds (author of Git and the Linux Kernel)\n",
    "\n",
    "![](https://www.groovecommerce.com/hs-fs/hub/188845/file-4063238095-png/blog-files/distributed-version-control-system.png?width=499&height=262&name=distributed-version-control-system.png)"
   ]
  },
  {
   "cell_type": "markdown",
   "metadata": {
    "slideshow": {
     "slide_type": "slide"
    }
   },
   "source": [
    "## What is Git?\n",
    "\n",
    "It helps users:\n",
    "- Update their code to the latest version\n",
    "- Keep track of all changes made and who made them\n",
    "- Submit modifications to the original codebase\n",
    "- Revert their code to an earlier version"
   ]
  },
  {
   "cell_type": "markdown",
   "metadata": {
    "slideshow": {
     "slide_type": "slide"
    }
   },
   "source": [
    "## Git is confusing at first, but extremely powerful\n",
    "\n",
    "![alt text](https://imgs.xkcd.com/comics/git.png \"Title\")"
   ]
  },
  {
   "cell_type": "markdown",
   "metadata": {
    "slideshow": {
     "slide_type": "slide"
    }
   },
   "source": [
    "## Why do we use Git?\n",
    "\n",
    "- Git allows us to track ONLY the *changes* we make in our files (`git commit`)\n",
    "- Allows us to greatly save space while also having a complete history of a document or entire project. (`git log`)\n",
    "- Allows us to know exactly which collaborator (or which version of your former self) made the change to your code that completely broke everything (`git blame`)\n",
    "- Make potential changes to our project without affecting a working master version (`git branch`, `git request-pull`)\n",
    "- GitHub allows us to upload the history of our files to one place (`git push`)"
   ]
  },
  {
   "cell_type": "markdown",
   "metadata": {
    "slideshow": {
     "slide_type": "slide"
    }
   },
   "source": [
    "## Git vs. GitHub\n",
    "\n",
    "[Git](https://git-scm.com/) is a distributed version control system.\n",
    "\n",
    "[GitHub](https://github.com/) is a website that allows for sharing repositories created and managed with Git."
   ]
  },
  {
   "cell_type": "markdown",
   "metadata": {
    "slideshow": {
     "slide_type": "slide"
    }
   },
   "source": [
    "## Quick Git Demo\n",
    "\n",
    "Let's open up a terminal and try some git!\n",
    "\n",
    "1. Create a repo\n",
    "2. Add/Modify a file\n",
    "3. Commit the file\n",
    "4. Repeat steps 2 and 3"
   ]
  },
  {
   "cell_type": "markdown",
   "metadata": {
    "slideshow": {
     "slide_type": "slide"
    }
   },
   "source": [
    "# Jupyter Notebooks\n",
    "\n",
    "From the [Jupyter](https://jupyter.org) website:\n",
    "\n",
    "\n",
    "> The Jupyter Notebook is an open-source web application that allows you to create and share documents that contain live code, equations, visualizations and narrative text. Uses include: data cleaning and transformation, numerical simulation, statistical modeling, data visualization, machine learning, and much more.\n",
    "\n",
    "\n",
    "Thus, it's an interactive way of interspersing code, text, and graphics, akin to a dynamic electronic lab notebook. \n",
    "\n",
    "***Let's spend some time now getting started using Jupyter Notebooks!***"
   ]
  },
  {
   "cell_type": "markdown",
   "metadata": {
    "slideshow": {
     "slide_type": "slide"
    }
   },
   "source": [
    "## Starting a Jupyter Notebook \n",
    "\n",
    "Our general workflow will be as follows:\n",
    "\n",
    "0. Open the Anaconda Prompt/Terminal.\n",
    "1. Navigate via `cd` to the directory where you have cloned the `QuantCog` repo.\n",
    "2. Start up the jupyter notebook server, which will open a web-based file browser: `jupyter notebook`\n",
    "3. Identify the notebook you'd like to open and `Duplicate` it if it's one of the notebooks provided by the class repo:\n",
    "  - Check the box to the left of the filename.\n",
    "  - Click the button that appears at the top of the list called `Duplicate`.\n",
    "  - Agree to `Duplicate` on the pop-up window.\n",
    "  - Follow similar steps to `Rename` the notebook appending your computing id (e.g., `01_Introduction_mst3k`.\n",
    "4. Click the name of the notebook to open a new tab with the notebook. This will also start a new Python kernel running in the background\n",
    "  - NOTE: It is important to select `File -> Close and Halt` once you've saved your work and are done working with a notebook, otherwise you might run through your computer's RAM."
   ]
  },
  {
   "cell_type": "markdown",
   "metadata": {
    "slideshow": {
     "slide_type": "slide"
    }
   },
   "source": [
    "## The Two Modes\n",
    "\n",
    "- **Edit mode**: When you double-click or press `Enter` in a cell, you are able to modify its contents. \n",
    "  - It works just like any other place where you can type text (ctrl-c, ctrl-v, etc).\n",
    "- **Command mode**: Pressing `Esc` or clicking outside the cell will put you into the mode that allows you to navigate, reorder, and modify the cell types. \n",
    "  - For example, you can combine, split, create and delete cells, move them around, convert them between code and markdown modes, etc... \n",
    " "
   ]
  },
  {
   "cell_type": "markdown",
   "metadata": {
    "slideshow": {
     "slide_type": "slide"
    }
   },
   "source": [
    "## Notes on Notebooks\n",
    "\n",
    "***NOTE 1***: If you need help doing something in a Jupyter notebook, come back to this mini tutorial or Google it!\n",
    "\n",
    "***NOTE 2***: If you click the `Help` menu at the top, and then select `User Inteface Tour`, the notebook will walk you through all of its most useful features. "
   ]
  },
  {
   "cell_type": "markdown",
   "metadata": {
    "slideshow": {
     "slide_type": "slide"
    }
   },
   "source": [
    "## Google Colab vs. local (via Anaconda)\n",
    "\n",
    "- In a pinch you can open and run many Jupyter notebooks online with Google's Colaboratory (colab.research.google.com)\n",
    "- The user interface is slightly different, but it runs on their servers instead of your machine.\n",
    "- Thus, you have to transfer any files over there you need. \n",
    "  - In most cases, I provide the code in cells to take care of that for you.\n",
    "- *Nevertheless, it is recommended that you run a local Jupyter notebook server locally.*"
   ]
  },
  {
   "cell_type": "markdown",
   "metadata": {
    "slideshow": {
     "slide_type": "slide"
    }
   },
   "source": [
    "# A short intro to Python\n",
    "\n",
    "The Python programming language was invented by Guido van Rossum, who just recently stepped down as benevelont dictator for life to be replaced by an elected steering committee. \n",
    "\n",
    "Python has a set of core principles provided by the Zen of Python, which are available within Python, itself (so Zen, right?!):"
   ]
  },
  {
   "cell_type": "code",
   "execution_count": 1,
   "metadata": {
    "slideshow": {
     "slide_type": "slide"
    }
   },
   "outputs": [
    {
     "name": "stdout",
     "output_type": "stream",
     "text": [
      "The Zen of Python, by Tim Peters\n",
      "\n",
      "Beautiful is better than ugly.\n",
      "Explicit is better than implicit.\n",
      "Simple is better than complex.\n",
      "Complex is better than complicated.\n",
      "Flat is better than nested.\n",
      "Sparse is better than dense.\n",
      "Readability counts.\n",
      "Special cases aren't special enough to break the rules.\n",
      "Although practicality beats purity.\n",
      "Errors should never pass silently.\n",
      "Unless explicitly silenced.\n",
      "In the face of ambiguity, refuse the temptation to guess.\n",
      "There should be one-- and preferably only one --obvious way to do it.\n",
      "Although that way may not be obvious at first unless you're Dutch.\n",
      "Now is better than never.\n",
      "Although never is often better than *right* now.\n",
      "If the implementation is hard to explain, it's a bad idea.\n",
      "If the implementation is easy to explain, it may be a good idea.\n",
      "Namespaces are one honking great idea -- let's do more of those!\n"
     ]
    }
   ],
   "source": [
    "import this"
   ]
  },
  {
   "cell_type": "markdown",
   "metadata": {
    "slideshow": {
     "slide_type": "slide"
    }
   },
   "source": [
    "## Python can do pretty much anything we need\n",
    "\n",
    "- Write programs to run experiments\n",
    "\n",
    "- Computational modeling (cognitive models, neural networks, simulation studies)\n",
    "\n",
    "- Data processing from start to finish\n",
    "\n",
    "  - Reading and parsing log files\n",
    "  \n",
    "  - Data preprocessing (esp, important for EEG and fMRI) and filtering\n",
    "  \n",
    "  - Statistical analyses\n",
    "\n",
    "- Produce papers, presentations, websites...\n",
    "\n",
    "- Just about anything else you can think of\n",
    "\n",
    "  - Games, graphics, audio apps, even cell phone and tablet apps\n"
   ]
  },
  {
   "cell_type": "markdown",
   "metadata": {
    "slideshow": {
     "slide_type": "slide"
    }
   },
   "source": [
    "## Objects everywhere!\n",
    "\n",
    "Python is an object-oriented language and supports (though does not require) an object-oriented programming model. This simply means it makes it easy to create new objects, inheriting features from other objects."
   ]
  },
  {
   "cell_type": "markdown",
   "metadata": {
    "slideshow": {
     "slide_type": "slide"
    }
   },
   "source": [
    "## What is an object?\n",
    "\n",
    "Everything (yes, everything) in Python is an object (or an instance of an object), which is really useful!\n",
    "\n",
    "- Objects have *attributes* that tell us about that object instance\n",
    "- Objects can have *methods* that a functions that object can perform\n"
   ]
  },
  {
   "cell_type": "markdown",
   "metadata": {
    "slideshow": {
     "slide_type": "slide"
    }
   },
   "source": [
    "## What is an instance?\n",
    "\n",
    "When you initialize an object, you create an *instance* of it, taking up memory in the computer. \n",
    "\n",
    "Thus, any variable we define is simply pointing the variable's name (in the current namespace) to a chunk of memory containing the instance of that object.\n",
    "\n",
    "Python keeps track of all object instances and cleans them when they are no longer needed."
   ]
  },
  {
   "cell_type": "code",
   "execution_count": 2,
   "metadata": {
    "slideshow": {
     "slide_type": "slide"
    }
   },
   "outputs": [
    {
     "data": {
      "text/plain": [
       "int"
      ]
     },
     "execution_count": 2,
     "metadata": {},
     "output_type": "execute_result"
    }
   ],
   "source": [
    "# let's make an int object instance\n",
    "x = 42\n",
    "type(x)"
   ]
  },
  {
   "cell_type": "code",
   "execution_count": 3,
   "metadata": {},
   "outputs": [
    {
     "data": {
      "text/plain": [
       "42"
      ]
     },
     "execution_count": 3,
     "metadata": {},
     "output_type": "execute_result"
    }
   ],
   "source": [
    "# let's explore x\n",
    "# (press tab after x.<tab>)\n",
    "#x.to_bytes(64,'big')\n",
    "x"
   ]
  },
  {
   "cell_type": "code",
   "execution_count": 4,
   "metadata": {
    "slideshow": {
     "slide_type": "slide"
    }
   },
   "outputs": [
    {
     "data": {
      "text/plain": [
       "str"
      ]
     },
     "execution_count": 4,
     "metadata": {},
     "output_type": "execute_result"
    }
   ],
   "source": [
    "y = 'The answer to the ultimate question.'\n",
    "type(y)\n"
   ]
  },
  {
   "cell_type": "code",
   "execution_count": 5,
   "metadata": {},
   "outputs": [
    {
     "data": {
      "text/plain": [
       "36"
      ]
     },
     "execution_count": 5,
     "metadata": {},
     "output_type": "execute_result"
    }
   ],
   "source": [
    "len(y)"
   ]
  },
  {
   "cell_type": "code",
   "execution_count": 7,
   "metadata": {},
   "outputs": [
    {
     "data": {
      "text/plain": [
       "['The', 'answer', 'to', 'the', 'ultimate', 'question.']"
      ]
     },
     "execution_count": 7,
     "metadata": {},
     "output_type": "execute_result"
    }
   ],
   "source": [
    "# let's explore y\n",
    "# (press tab after y.<tab>)\n",
    "z = y.split(' ')\n",
    "z"
   ]
  },
  {
   "cell_type": "markdown",
   "metadata": {
    "slideshow": {
     "slide_type": "slide"
    }
   },
   "source": [
    "## A bit about namespaces\n",
    "\n",
    "It's usually a very good idea to keep a clean namespace. Given that Python is designed to be highly *extensible*, the base functionality is small and there are tons of useful modules (i.e., libraries) you can import. \n",
    "\n",
    "Most have naming conventions that help you keep track of where your methods are coming from:\n",
    "\n",
    "```python\n",
    "import numpy as np\n",
    "```\n",
    "and not\n",
    "```python\n",
    "import * from numpy\n",
    "```"
   ]
  },
  {
   "cell_type": "markdown",
   "metadata": {
    "slideshow": {
     "slide_type": "slide"
    }
   },
   "source": [
    "# Basics of Probability\n",
    "\n",
    "\n",
    "\n",
    "### A   \n",
    "$P(A) \\in [0, 1]$\n",
    "\n",
    "### not A\n",
    "$1 - P(A)$\n",
    "\n",
    "### A or B \n",
    "$P(A \\cup B) = P(A) + P(B) - P(A \\cap B)$ or <br> $P(A \\cup B) = P(A) + P(B)$ if A and B are mutually exclusive\n",
    "\n",
    "### A and B\n",
    "$P(A \\cap B) = P(A \\mid B) P(B) = P(B \\mid A) P(A)$ or <br> $P(A \\cap B) = P(A) P(B)$ if A and B are independent\n",
    "\n",
    "### A given B \n",
    "$P(A \\mid B) = \\frac{P(A \\cap B)}{P(B)} = \\frac{P(B \\mid A) P(A)}{P(B)}$\n",
    "\n",
    "\n",
    "\n",
    "\n"
   ]
  },
  {
   "cell_type": "markdown",
   "metadata": {
    "slideshow": {
     "slide_type": "slide"
    }
   },
   "source": [
    "## Simple examples\n",
    "\n",
    "Using the table above, let's try and figure out the probabilities of the following:\n",
    "\n",
    "1. Rolling a 5 on a 6-sided die.\n",
    "2. Not rolling a 3 on a 6-sided die.\n",
    "3. Rolling a 4 or a 5 on a 6-sided die.\n",
    "4. Rolling less than 4 or an even number on a 6-sided die.\n",
    "5. Rolling two 3's in a row on a 6-sided die.\n"
   ]
  },
  {
   "cell_type": "markdown",
   "metadata": {
    "slideshow": {
     "slide_type": "slide"
    }
   },
   "source": [
    "## Harder question\n",
    "\n",
    "### The case of Tim Tebow\n",
    "\n",
    "What is the probability of becoming a Major League Baseball (MLB) player if you hit a home run (HR) in your first at-bat in the minor leagues? We have the following important information:\n",
    "\n",
    "a) 0.5% of future MLB players hit a home run in their first minor league at-bat.\n",
    "\n",
    "b) 1% of minor league players make it to MLB.\n",
    "\n",
    "c) Only 0.1% of players hit a homerun in their first minor league at-bat.\n",
    "\n",
    "Hint: You are trying to solve $P(MLB \\mid HR)$.\n",
    "\n",
    "*Bonus*: What additional information do we need to know in order to calculate the probability a player doesn't make it to MLB, but hit a home run in their first minor league at bat?"
   ]
  },
  {
   "cell_type": "markdown",
   "metadata": {
    "slideshow": {
     "slide_type": "slide"
    }
   },
   "source": [
    "## Probability Distributions\n",
    "\n",
    "At the core of probability theory are the mathematical functions determining the probability of the potential outcomes of an experiment. \n",
    "\n",
    "In statistics, these distributions represent the models that attempt to describe the observed data. The equations take in parameters that determine the shape of the probability distributions."
   ]
  },
  {
   "cell_type": "markdown",
   "metadata": {
    "slideshow": {
     "slide_type": "slide"
    }
   },
   "source": [
    "## A note on PDFs\n",
    "\n",
    "The probability density function (PDF) provides the *relative* likelihood of observing a particular sample from that distribution.\n",
    "\n",
    "The *absolute* likelihood is zero because in an continuous distribution there are an infinite number of possible numbers in the PDF.\n",
    "\n",
    "Thus the PDF specifies the probability of falling within a *range* of values. The area under the entire PDF is equal to 1, but you can calculate the area under portions of the curve to determine the probability of observing a value in that range.\n",
    "\n",
    "You can also compare two likelihood values to determine the relative likelihood of observing those two values."
   ]
  },
  {
   "cell_type": "markdown",
   "metadata": {
    "slideshow": {
     "slide_type": "slide"
    }
   },
   "source": [
    "## Exploring probability distributions\n",
    "\n",
    "Let's explore some continuous and discrete probability distributions relevant to quantifying data and models!!!"
   ]
  },
  {
   "cell_type": "markdown",
   "metadata": {
    "slideshow": {
     "slide_type": "slide"
    }
   },
   "source": [
    "## *ONLY* if on Google Colab\n"
   ]
  },
  {
   "cell_type": "code",
   "execution_count": 8,
   "metadata": {},
   "outputs": [
    {
     "name": "stdout",
     "output_type": "stream",
     "text": [
      "--2021-02-18 12:47:25--  https://raw.githubusercontent.com/compmem/QuantCog/2021_Spring/notebooks/dists.py\n",
      "Resolving raw.githubusercontent.com (raw.githubusercontent.com)... 185.199.109.133, 185.199.108.133, 185.199.111.133, ...\n",
      "Connecting to raw.githubusercontent.com (raw.githubusercontent.com)|185.199.109.133|:443... connected.\n",
      "HTTP request sent, awaiting response... 200 OK\n",
      "Length: 7954 (7.8K) [text/plain]\n",
      "Saving to: ‘dists.py.1’\n",
      "\n",
      "dists.py.1          100%[===================>]   7.77K  --.-KB/s    in 0.007s  \n",
      "\n",
      "2021-02-18 12:47:25 (1.01 MB/s) - ‘dists.py.1’ saved [7954/7954]\n",
      "\n"
     ]
    }
   ],
   "source": [
    "# to retrieve the dists.py file\n",
    "!wget https://raw.githubusercontent.com/compmem/QuantCog/2021_Spring/notebooks/dists.py"
   ]
  },
  {
   "cell_type": "code",
   "execution_count": 9,
   "metadata": {
    "slideshow": {
     "slide_type": "slide"
    }
   },
   "outputs": [],
   "source": [
    "# load matplotlib inline mode\n",
    "%matplotlib inline\n",
    "\n",
    "# import some useful libraries\n",
    "import numpy as np                # numerical analysis linear algebra\n",
    "import pandas as pd               # efficient tables\n",
    "import matplotlib.pyplot as plt   # plotting\n",
    "import ipywidgets as widgets      # interactive widgets\n",
    "\n",
    "# local code wrapping scipy distributions\n",
    "import dists"
   ]
  },
  {
   "cell_type": "code",
   "execution_count": 10,
   "metadata": {},
   "outputs": [],
   "source": [
    "# function to help plot a PDF\n",
    "def plot_pdf(dist, support=None, npoints=100, alpha=0.7):\n",
    "    # see if must determine support range\n",
    "    if support is None:\n",
    "        # grab 99% interval and then expand a bit\n",
    "        support = np.array(dist.interval(0.99))\n",
    "        rng = np.diff(support)*.1\n",
    "        support[0] -= rng\n",
    "        support[1] += rng\n",
    "    \n",
    "    # set a range of linearly-spaced points\n",
    "    x = np.linspace(support[0], support[1], npoints)\n",
    "    \n",
    "    # evaluate the pdf at those points\n",
    "    pdf = dist.pdf(x)\n",
    "    \n",
    "    # plot the results\n",
    "    plt.plot(x, pdf, lw=3, alpha=alpha)\n",
    "    plt.xlabel('Value')\n",
    "    plt.ylabel('Probability Density')"
   ]
  },
  {
   "cell_type": "markdown",
   "metadata": {
    "slideshow": {
     "slide_type": "slide"
    }
   },
   "source": [
    "### [Uniform](https://en.wikipedia.org/wiki/Uniform_distribution_(continuous))\n",
    "\n",
    "A continuous probability distribution assigning equal probability over a range.\n",
    "\n",
    "What happens when we change the range?\n"
   ]
  },
  {
   "cell_type": "code",
   "execution_count": 11,
   "metadata": {
    "scrolled": false
   },
   "outputs": [
    {
     "data": {
      "image/png": "[encoded data removed]",
      "text/plain": [
       "<Figure size 432x288 with 1 Axes>"
      ]
     },
     "metadata": {
      "needs_background": "light"
     },
     "output_type": "display_data"
    }
   ],
   "source": [
    "# plot the PDF\n",
    "plot_pdf(dists.uniform(lower=-2, upper=2), support=[-5, 5])\n",
    "plot_pdf(dists.uniform(lower=-.5, upper=.5), support=[-5, 5])\n"
   ]
  },
  {
   "cell_type": "markdown",
   "metadata": {
    "slideshow": {
     "slide_type": "slide"
    }
   },
   "source": [
    "### [Normal/Gaussian distribution](https://en.wikipedia.org/wiki/Normal_distribution)\n",
    "\n",
    "Important in statistics due to the Central Limit Theorem."
   ]
  },
  {
   "cell_type": "code",
   "execution_count": 12,
   "metadata": {},
   "outputs": [
    {
     "data": {
      "image/png": "[encoded data removed]",
      "text/plain": [
       "<Figure size 432x288 with 1 Axes>"
      ]
     },
     "metadata": {
      "needs_background": "light"
     },
     "output_type": "display_data"
    }
   ],
   "source": [
    "# plot the PDF\n",
    "plot_pdf(dists.normal(mean=0, std=1), support=[-5, 10])\n",
    "plot_pdf(dists.normal(mean=5, std=.25), support=[-5, 10])\n"
   ]
  },
  {
   "cell_type": "markdown",
   "metadata": {
    "slideshow": {
     "slide_type": "slide"
    }
   },
   "source": [
    "### [Beta](https://en.wikipedia.org/wiki/Beta_distribution)\n",
    "\n",
    "Only has support between 0 and 1. Useful to help determine the probability of a probability.\n",
    "\n",
    "We'll spend some time with Beta distributions in subsequent classes."
   ]
  },
  {
   "cell_type": "code",
   "execution_count": 13,
   "metadata": {},
   "outputs": [
    {
     "data": {
      "image/png": "[encoded data removed]",
      "text/plain": [
       "<Figure size 432x288 with 1 Axes>"
      ]
     },
     "metadata": {
      "needs_background": "light"
     },
     "output_type": "display_data"
    }
   ],
   "source": [
    "# plot the PDF\n",
    "plot_pdf(dists.beta(alpha=0.5, beta=0.5), support=[0,1])\n",
    "plot_pdf(dists.beta(alpha=2, beta=5), support=[0,1])\n",
    "plot_pdf(dists.beta(alpha=20, beta=10), support=[0,1])\n"
   ]
  },
  {
   "cell_type": "markdown",
   "metadata": {
    "slideshow": {
     "slide_type": "slide"
    }
   },
   "source": [
    "### [Gamma](https://en.wikipedia.org/wiki/Gamma_distribution)\n",
    "\n",
    "Only has positive support. \n",
    "\n",
    "Other common distributions are special cases of the Gamma distribution (e.g., Exponential, Chi-Square, etc...)"
   ]
  },
  {
   "cell_type": "code",
   "execution_count": 14,
   "metadata": {},
   "outputs": [
    {
     "data": {
      "image/png": "[encoded data removed]",
      "text/plain": [
       "<Figure size 432x288 with 1 Axes>"
      ]
     },
     "metadata": {
      "needs_background": "light"
     },
     "output_type": "display_data"
    }
   ],
   "source": [
    "# Gamma Distribution\n",
    "plot_pdf(dists.gamma(alpha=0.5, beta=0.5), support=[-1,10])\n",
    "plot_pdf(dists.gamma(alpha=10.0, beta=5), support=[-1,10])"
   ]
  },
  {
   "cell_type": "markdown",
   "metadata": {
    "slideshow": {
     "slide_type": "slide"
    }
   },
   "source": [
    "## Assignment before next class\n",
    "\n",
    "The goal of this assignment is to practice plotting, while exploring some of the other common continuous probability density functions.\n",
    "\n",
    "In a Jupyter notebook (I'll make an assignment notebook available), you will make plots of the following probability distributions:\n",
    "\n",
    "- Inverse Gamma\n",
    "- Exponential\n",
    "- Student's t\n",
    "- Half Cauchy\n",
    "\n",
    "Refer to their respective pages on Wikipedia for additional information, and try to replicate the illustrative plots of the PDFs on those pages.\n",
    "\n",
    "Make note of the *support* for each distribution and how the parameters affect the shape of the distribution.\n",
    "\n",
    "\n",
    "### See you next week!!!"
   ]
  }
 ],
 "metadata": {
  "celltoolbar": "Slideshow",
  "kernelspec": {
   "display_name": "Python 3",
   "language": "python",
   "name": "python3"
  },
  "language_info": {
   "codemirror_mode": {
    "name": "ipython",
    "version": 3
   },
   "file_extension": ".py",
   "mimetype": "text/x-python",
   "name": "python",
   "nbconvert_exporter": "python",
   "pygments_lexer": "ipython3",
   "version": "3.7.7"
  },
  "rise": {
   "scroll": true
  }
 },
 "nbformat": 4,
 "nbformat_minor": 2
}
